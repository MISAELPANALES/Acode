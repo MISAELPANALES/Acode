{
  "nbformat": 4,
  "nbformat_minor": 0,
  "metadata": {
    "colab": {
      "provenance": [],
      "authorship_tag": "ABX9TyPkIQfsFYHj5c2DF7KIsVj0",
      "include_colab_link": true
    },
    "kernelspec": {
      "name": "python3",
      "display_name": "Python 3"
    },
    "language_info": {
      "name": "python"
    }
  },
  "cells": [
    {
      "cell_type": "markdown",
      "metadata": {
        "id": "view-in-github",
        "colab_type": "text"
      },
      "source": [
        "<a href=\"https://colab.research.google.com/github/MISAELPANALES/Acode/blob/main/Untitled2.ipynb\" target=\"_parent\"><img src=\"https://colab.research.google.com/assets/colab-badge.svg\" alt=\"Open In Colab\"/></a>"
      ]
    },
    {
      "cell_type": "code",
      "execution_count": null,
      "metadata": {
        "id": "rSrXr7aiiCkY"
      },
      "outputs": [],
      "source": [
        "nom=input('Dame tu nombre')\n",
        "edad=int(input(\"Dame tu edad\"))\n",
        "print(\"Hola\", nom, \"Tu año de nacimiento es: \", 2022-edad)"
      ]
    }
  ]
}