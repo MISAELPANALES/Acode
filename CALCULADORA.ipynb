{
  "nbformat": 4,
  "nbformat_minor": 0,
  "metadata": {
    "colab": {
      "provenance": [],
      "authorship_tag": "ABX9TyP4lCig4IUZ5/QwEl9EvrG5",
      "include_colab_link": true
    },
    "kernelspec": {
      "name": "python3",
      "display_name": "Python 3"
    },
    "language_info": {
      "name": "python"
    }
  },
  "cells": [
    {
      "cell_type": "markdown",
      "metadata": {
        "id": "view-in-github",
        "colab_type": "text"
      },
      "source": [
        "<a href=\"https://colab.research.google.com/github/MISAELPANALES/Acode/blob/main/CALCULADORA.ipynb\" target=\"_parent\"><img src=\"https://colab.research.google.com/assets/colab-badge.svg\" alt=\"Open In Colab\"/></a>"
      ]
    },
    {
      "cell_type": "markdown",
      "source": [
        "##CALCULADORA##"
      ],
      "metadata": {
        "id": "ikZWM5U4hKdC"
      }
    },
    {
      "cell_type": "code",
      "execution_count": 1,
      "metadata": {
        "colab": {
          "base_uri": "https://localhost:8080/"
        },
        "id": "rVQrTnVbhDoI",
        "outputId": "6e2ab10d-ed3f-41c2-edee-5de8dfb4e472"
      },
      "outputs": [
        {
          "output_type": "stream",
          "name": "stdout",
          "text": [
            "Bienvenido a la calculadora\n",
            "Por favor, elija una operación:\n",
            "1. Suma\n",
            "2. Resta\n",
            "3. Multiplicación\n",
            "4. División\n",
            "Ingrese el número de la operación que desea realizar: 1\n",
            "Ingrese el primer número: 5\n",
            "Ingrese el segundo número: 5\n",
            "El resultado es: 10.0\n"
          ]
        }
      ],
      "source": [
        "# Función para sumar dos números\n",
        "def suma(num1, num2):\n",
        "    return num1 + num2\n",
        "\n",
        "# Función para restar dos números\n",
        "def resta(num1, num2):\n",
        "    return num1 - num2\n",
        "\n",
        "# Función para multiplicar dos números\n",
        "def multiplicacion(num1, num2):\n",
        "    return num1 * num2\n",
        "\n",
        "# Función para dividir dos números\n",
        "def division(num1, num2):\n",
        "    if num2 != 0:\n",
        "        return num1 / num2\n",
        "    else:\n",
        "        return \"Error: No se puede dividir entre cero\"\n",
        "\n",
        "# Función principal de la calculadora\n",
        "def calculadora():\n",
        "    print(\"Bienvenido a la calculadora\")\n",
        "    print(\"Por favor, elija una operación:\")\n",
        "    print(\"1. Suma\")\n",
        "    print(\"2. Resta\")\n",
        "    print(\"3. Multiplicación\")\n",
        "    print(\"4. División\")\n",
        "\n",
        "    opcion = input(\"Ingrese el número de la operación que desea realizar: \")\n",
        "\n",
        "    num1 = float(input(\"Ingrese el primer número: \"))\n",
        "    num2 = float(input(\"Ingrese el segundo número: \"))\n",
        "\n",
        "    if opcion == \"1\":\n",
        "        resultado = suma(num1, num2)\n",
        "    elif opcion == \"2\":\n",
        "        resultado = resta(num1, num2)\n",
        "    elif opcion == \"3\":\n",
        "        resultado = multiplicacion(num1, num2)\n",
        "    elif opcion == \"4\":\n",
        "        resultado = division(num1, num2)\n",
        "    else:\n",
        "        resultado = \"Opción inválida\"\n",
        "\n",
        "    print(\"El resultado es:\", resultado)\n",
        "\n",
        "# Llamar a la función de la calculadora\n",
        "calculadora()\n"
      ]
    },
    {
      "cell_type": "markdown",
      "source": [],
      "metadata": {
        "id": "ZkYs4dUPhHhe"
      }
    }
  ]
}