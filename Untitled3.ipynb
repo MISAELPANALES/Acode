{
  "nbformat": 4,
  "nbformat_minor": 0,
  "metadata": {
    "colab": {
      "provenance": [],
      "authorship_tag": "ABX9TyO54BqqIon25Cgr/Kh0v92p",
      "include_colab_link": true
    },
    "kernelspec": {
      "name": "python3",
      "display_name": "Python 3"
    },
    "language_info": {
      "name": "python"
    }
  },
  "cells": [
    {
      "cell_type": "markdown",
      "metadata": {
        "id": "view-in-github",
        "colab_type": "text"
      },
      "source": [
        "<a href=\"https://colab.research.google.com/github/MISAELPANALES/Acode/blob/main/Untitled3.ipynb\" target=\"_parent\"><img src=\"https://colab.research.google.com/assets/colab-badge.svg\" alt=\"Open In Colab\"/></a>"
      ]
    },
    {
      "cell_type": "code",
      "execution_count": 2,
      "metadata": {
        "id": "-KdT7Bwzl3d8"
      },
      "outputs": [],
      "source": [
        "x=5\n",
        "b=10+1/(1+x)**2"
      ]
    },
    {
      "cell_type": "code",
      "source": [
        "round(b, 2)"
      ],
      "metadata": {
        "colab": {
          "base_uri": "https://localhost:8080/"
        },
        "id": "UllSUEZYmRL5",
        "outputId": "33c21164-6695-48b4-86a6-16f596989d01"
      },
      "execution_count": 3,
      "outputs": [
        {
          "output_type": "execute_result",
          "data": {
            "text/plain": [
              "10.03"
            ]
          },
          "metadata": {},
          "execution_count": 3
        }
      ]
    },
    {
      "cell_type": "code",
      "source": [
        "print(f\"el resultado no redondeado es: {b}, y el resultado redondeado es: {round(b,2)}\")"
      ],
      "metadata": {
        "colab": {
          "base_uri": "https://localhost:8080/"
        },
        "id": "Svnh_p-CmY2J",
        "outputId": "88d3bcd9-7aad-48aa-98fd-f74048268784"
      },
      "execution_count": 4,
      "outputs": [
        {
          "output_type": "stream",
          "name": "stdout",
          "text": [
            "el resultado no redondeado es: 10.027777777777779, y el resultado redondeado es: 10.03\n"
          ]
        }
      ]
    }
  ]
}