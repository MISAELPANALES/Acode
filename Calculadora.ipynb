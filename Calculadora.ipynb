{
  "nbformat": 4,
  "nbformat_minor": 0,
  "metadata": {
    "colab": {
      "provenance": [],
      "authorship_tag": "ABX9TyM8VXTbfBztSdLX25oStUeJ",
      "include_colab_link": true
    },
    "kernelspec": {
      "name": "python3",
      "display_name": "Python 3"
    },
    "language_info": {
      "name": "python"
    }
  },
  "cells": [
    {
      "cell_type": "markdown",
      "metadata": {
        "id": "view-in-github",
        "colab_type": "text"
      },
      "source": [
        "<a href=\"https://colab.research.google.com/github/MISAELPANALES/Acode/blob/main/Calculadora.ipynb\" target=\"_parent\"><img src=\"https://colab.research.google.com/assets/colab-badge.svg\" alt=\"Open In Colab\"/></a>"
      ]
    },
    {
      "cell_type": "markdown",
      "source": [
        "# CALCULADORA FINANCIERA"
      ],
      "metadata": {
        "id": "7dQ7TSwHkKrj"
      }
    },
    {
      "cell_type": "code",
      "execution_count": 1,
      "metadata": {
        "colab": {
          "base_uri": "https://localhost:8080/"
        },
        "id": "cc81jvRHjrUu",
        "outputId": "b3f5acf6-20bb-4ebe-d68c-2cc3b0e43471"
      },
      "outputs": [
        {
          "output_type": "stream",
          "name": "stdout",
          "text": [
            "Dame el capital a invertir100\n",
            "Dame la tasa de interes.1\n",
            "Dame el numero de periodos3\n",
            "La cantidad de  100 invertido a una tasa de  0.1 en  3 periodos da un capital final de:  133.10000000000005\n"
          ]
        }
      ],
      "source": [
        "capital=int(input(\"Dame el capital a invertir\"))\n",
        "i=float(input(\"Dame la tasa de interes\"))\n",
        "t=int(input('Dame el numero de periodos'))\n",
        "print('La cantidad de ', capital, 'invertido a una tasa de ',i, 'en ', t, 'periodos da un capital final de: ', capital*(1+i)**t)"
      ]
    }
  ]
}